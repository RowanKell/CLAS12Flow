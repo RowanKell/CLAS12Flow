{
 "cells": [
  {
   "cell_type": "code",
   "execution_count": 1,
   "id": "colored-seating",
   "metadata": {},
   "outputs": [],
   "source": [
    "#include <iostream>\n",
    "#include <vector>\n",
    "#include <cmath>\n",
    "#include <map>\n",
    "#include <string>\n",
    "#include \"TROOT.h\"\n",
    "#include \"TTree.h\"\n",
    "#include \"TFile.h\"\n",
    "\n",
    "using namespace std;"
   ]
  },
  {
   "cell_type": "code",
   "execution_count": 2,
   "id": "banned-rwanda",
   "metadata": {},
   "outputs": [],
   "source": [
    "TH1F *h1 = new TH1F(\"h1\",\"h1 title\", 10,0,10);"
   ]
  },
  {
   "cell_type": "code",
   "execution_count": 3,
   "id": "expensive-analyst",
   "metadata": {},
   "outputs": [],
   "source": [
    "int x [] = {0,0,1,2,2,3,4,5,5,6,6,6,6,6,6,7,7,7,8,8};"
   ]
  },
  {
   "cell_type": "code",
   "execution_count": 7,
   "id": "changing-reputation",
   "metadata": {},
   "outputs": [],
   "source": [
    "for(int i = 0; i < sizeof(x); i++){\n",
    "    h1->Fill(x[i]);\n",
    "}"
   ]
  },
  {
   "cell_type": "code",
   "execution_count": 11,
   "id": "legitimate-failure",
   "metadata": {},
   "outputs": [
    {
     "data": {
      "image/png": "[encoded data removed]",
      "text/plain": [
       "<IPython.core.display.Image object>"
      ]
     },
     "metadata": {},
     "output_type": "display_data"
    }
   ],
   "source": [
    "auto c = new TCanvas(\"c\",\"c\", 900,700);\n",
    "c->Draw();\n",
    "h1->DrawCopy();"
   ]
  },
  {
   "cell_type": "code",
   "execution_count": 1,
   "id": "exciting-pontiac",
   "metadata": {},
   "outputs": [],
   "source": [
    "\n",
    "\n",
    "// Initializations for map\n",
    "std::vector<int> vdiquarklist;\n",
    "int vdiquarksize;\n",
    "// Defining particle PIDs - look into how to use libraries/dictionaries\n",
    "// Vectors will suffice for now\n",
    "\n",
    "map<int, string> PID_map;\n",
    "//Quarks\n",
    "PID_map.insert(pair<int,string>(-6, \"Anti-Top\"));\n",
    "PID_map.insert(pair<int,string>(-5, \"Anti-Bottom\"));\n",
    "PID_map.insert(pair<int,string>(-4, \"Anti-Charm\"));\n",
    "PID_map.insert(pair<int,string>(-3, \"Anti-Strange\"));\n",
    "PID_map.insert(pair<int,string>(-2, \"Anti-Up\"));\n",
    "PID_map.insert(pair<int,string>(-1, \"Anti-Down\"));\n",
    "PID_map.insert(pair<int,string>(1, \"Down\"));\n",
    "PID_map.insert(pair<int,string>(2, \"Up\"));\n",
    "PID_map.insert(pair<int,string>(3, \"Strange\"));\n",
    "PID_map.insert(pair<int,string>(4, \"Charm\"));\n",
    "PID_map.insert(pair<int,string>(5, \"Bottom\"));\n",
    "PID_map.insert(pair<int,string>(6, \"Top\"));\n",
    "//Leptons\n",
    "PID_map.insert(pair<int,string>(11, \"Electron\"));\n",
    "PID_map.insert(pair<int,string>(13, \"Muon\"));\n",
    "PID_map.insert(pair<int,string>(15, \"Tau\"));\n",
    "PID_map.insert(pair<int,string>(22, \"Photon\"));\n",
    "//Bosons\n",
    "PID_map.insert(pair<int,string>(-24, \"W-\"));\n",
    "PID_map.insert(pair<int,string>(24, \"W+\"));\n",
    "PID_map.insert(pair<int,string>(23, \"Z\"));\n",
    "//Baryons\n",
    "PID_map.insert(pair<int,string>(-3122, \"Anti-Lambda\"));\n",
    "PID_map.insert(pair<int,string>(-211, \"Pi-\"));\n",
    "PID_map.insert(pair<int,string>(111, \"Pi0\"));\n",
    "PID_map.insert(pair<int,string>(211, \"Pi+\"));\n",
    "PID_map.insert(pair<int,string>(1114, \"Delta-\"));\n",
    "PID_map.insert(pair<int,string>(2114, \"Delta0\"));\n",
    "PID_map.insert(pair<int,string>(2212, \"Proton\"));\n",
    "PID_map.insert(pair<int,string>(2214, \"Delta+\"));\n",
    "PID_map.insert(pair<int,string>(2224, \"Delta++\"));\n",
    "PID_map.insert(pair<int,string>(3112, \"Sigma-\"));\n",
    "PID_map.insert(pair<int,string>(3114, \"Sigma*-\"));\n",
    "PID_map.insert(pair<int,string>(3122, \"Lambda\"));\n",
    "PID_map.insert(pair<int,string>(3214, \"Sigma*0\"));\n",
    "PID_map.insert(pair<int,string>(3222, \"Sigma+\"));\n",
    "PID_map.insert(pair<int,string>(3224, \"Sigma*+\"));\n",
    "PID_map.insert(pair<int,string>(3312, \"Xi-\"));\n",
    "PID_map.insert(pair<int,string>(3324, \"Xi*0\"));\n",
    "//Mesons\n",
    "PID_map.insert(pair<int,string>(-323, \"K*-\"));\n",
    "PID_map.insert(pair<int,string>(-313, \"K*0\"));\n",
    "PID_map.insert(pair<int,string>(-213, \"Rho-\"));\n",
    "PID_map.insert(pair<int,string>(113, \"Rho0\"));\n",
    "PID_map.insert(pair<int,string>(213, \"Rho+\"));\n",
    "PID_map.insert(pair<int,string>(221, \"Eta\"));\n",
    "PID_map.insert(pair<int,string>(223, \"Omega\"));\n",
    "PID_map.insert(pair<int,string>(310, \"Ks0\"));\n",
    "PID_map.insert(pair<int,string>(313, \"K*0\"));\n",
    "PID_map.insert(pair<int,string>(323, \"K*+\"));\n",
    "PID_map.insert(pair<int,string>(331, \"Eta\"));\n",
    "PID_map.insert(pair<int,string>(333, \"Phi\"));\n",
    "//Event Gen\n",
    "PID_map.insert(pair<int,string>(91, \"Gen=91\"));\n",
    "PID_map.insert(pair<int,string>(92, \"Gen=92\"));\n",
    "//diquarks - we don't usually care what they are, but we can label them all diquark this way\n",
    "vdiquarklist = {1103, 2101, 2103, 2203, 3101, 3103, 3201, 3203, 3303, 4101, 4103, 4201, 4203, 4301, 4303, 4403, 5101, 5103, 5201, 5203, 5301, 5303, 5401, 5403, 5503};\n",
    "vdiquarksize = vdiquarklist.size();\n",
    "for(int i = 0;i < vdiquarksize;i++){\n",
    "    PID_map.insert(pair<int,string>(vdiquarklist[i], \"Diquark\"));\n",
    "}"
   ]
  },
  {
   "cell_type": "code",
   "execution_count": 19,
   "id": "ongoing-insulin",
   "metadata": {},
   "outputs": [],
   "source": [
    "int countvar = 0;"
   ]
  },
  {
   "cell_type": "code",
   "execution_count": 23,
   "id": "separate-angel",
   "metadata": {},
   "outputs": [
    {
     "name": "stdout",
     "output_type": "stream",
     "text": [
      "25"
     ]
    }
   ],
   "source": [
    "for(int i = 1103; i < 6000;i++){ //should be 25\n",
    "    if(PID_map[i] == \"Diquark\"){countvar += 1;}\n",
    "}\n",
    "std::cout << countvar;"
   ]
  },
  {
   "cell_type": "code",
   "execution_count": null,
   "id": "weird-theology",
   "metadata": {},
   "outputs": [],
   "source": [
    "//Yay!"
   ]
  },
  {
   "cell_type": "code",
   "execution_count": 2,
   "id": "modern-participation",
   "metadata": {},
   "outputs": [],
   "source": [
    "double Pfunc(double Px, double Py, double Pz)\n",
    "{\n",
    "    return sqrt(Px*Px + Py*Py + Pz*Pz);\n",
    "}"
   ]
  },
  {
   "cell_type": "code",
   "execution_count": 22,
   "id": "generous-xerox",
   "metadata": {},
   "outputs": [
    {
     "name": "stdout",
     "output_type": "stream",
     "text": [
      "0.631982"
     ]
    }
   ],
   "source": [
    "// Clicked n 4 times\n",
    "double photonp = Pfunc(-0.1299,0.4675,8.0344);\n",
    "double upp = Pfunc(0.0609,0.3163,0.0569);\n",
    "double ubarp = Pfunc(-0.0426,0.4197,7.6519);\n",
    "double protonp = Pfunc(-0.1463,-0.2542,0.4929);\n",
    "std::cout << photonp + protonp - upp - ubarp;"
   ]
  },
  {
   "cell_type": "code",
   "execution_count": 7,
   "id": "consecutive-antique",
   "metadata": {},
   "outputs": [],
   "source": [
    "double gammapart = 8.0807;\n",
    "double upbar = 7.6519;\n",
    "double up = 0.0569;\n",
    "double proton = 0.4929;"
   ]
  },
  {
   "cell_type": "code",
   "execution_count": 27,
   "id": "lined-cooling",
   "metadata": {},
   "outputs": [
    {
     "name": "stdout",
     "output_type": "stream",
     "text": [
      "-0.0072"
     ]
    }
   ],
   "source": [
    "cout << gammapart - upbar + up - proton;"
   ]
  },
  {
   "cell_type": "code",
   "execution_count": 18,
   "id": "convertible-agriculture",
   "metadata": {},
   "outputs": [
    {
     "name": "stdout",
     "output_type": "stream",
     "text": [
      "-0.0019"
     ]
    }
   ],
   "source": [
    "double xgammapart = -0.1299;\n",
    "double xupbar = -0.0426;\n",
    "double xup = 0.0609;\n",
    "double xproton = -0.1463;\n",
    "double xMC92 = 0.0183;\n",
    "std::cout << xgammapart - xupbar - xup - xproton;"
   ]
  },
  {
   "cell_type": "code",
   "execution_count": 31,
   "id": "optimum-toolbox",
   "metadata": {},
   "outputs": [
    {
     "name": "stdout",
     "output_type": "stream",
     "text": [
      "-0.3609"
     ]
    }
   ],
   "source": [
    "// clicked n 6 times\n",
    "double zgamma = 5.5656;\n",
    "double zup = 5.3704;\n",
    "double zdiquark = 0.2959;\n",
    "double zstring = 5.6663;\n",
    "double zpion = 0.2602;\n",
    "std::cout << zgamma - zpion - zstring;\n"
   ]
  },
  {
   "cell_type": "code",
   "execution_count": 32,
   "id": "young-reach",
   "metadata": {},
   "outputs": [
    {
     "name": "stdout",
     "output_type": "stream",
     "text": [
      "-0.3609"
     ]
    }
   ],
   "source": [
    "cout << zgamma - zpion - zup - zdiquark;"
   ]
  },
  {
   "cell_type": "code",
   "execution_count": null,
   "id": "killing-arrest",
   "metadata": {},
   "outputs": [],
   "source": [
    "//^^ this shows that the string is made up of the up quark and diquark"
   ]
  },
  {
   "cell_type": "code",
   "execution_count": 30,
   "id": "decreased-dispatch",
   "metadata": {},
   "outputs": [
    {
     "name": "stdout",
     "output_type": "stream",
     "text": [
      "0.3609"
     ]
    }
   ],
   "source": [
    "cout << zup + zdiquark + zpion - zgamma;"
   ]
  },
  {
   "cell_type": "code",
   "execution_count": 26,
   "id": "better-charleston",
   "metadata": {},
   "outputs": [
    {
     "name": "stdout",
     "output_type": "stream",
     "text": [
      "0"
     ]
    }
   ],
   "source": [
    "double zelec = 5.0344;\n",
    "double zelecinit = 10.6;\n",
    "std::cout << zelecinit - zelec - zgamma;"
   ]
  },
  {
   "cell_type": "code",
   "execution_count": null,
   "id": "respective-latvia",
   "metadata": {},
   "outputs": [],
   "source": [
    "//^^ This means that the virtual photon has all initial electron momentum not in the scattered electron"
   ]
  },
  {
   "cell_type": "code",
   "execution_count": null,
   "id": "legislative-coordination",
   "metadata": {},
   "outputs": [],
   "source": [
    "upantiup = "
   ]
  },
  {
   "cell_type": "code",
   "execution_count": 2,
   "id": "monthly-flash",
   "metadata": {},
   "outputs": [],
   "source": [
    "vector<array<int,2>> v;"
   ]
  },
  {
   "cell_type": "code",
   "execution_count": 4,
   "id": "competent-button",
   "metadata": {},
   "outputs": [],
   "source": [
    "v.push_back({2,3});"
   ]
  },
  {
   "cell_type": "code",
   "execution_count": 5,
   "id": "blind-corruption",
   "metadata": {},
   "outputs": [],
   "source": [
    "v.push_back({1,1});"
   ]
  },
  {
   "cell_type": "code",
   "execution_count": 7,
   "id": "skilled-archives",
   "metadata": {},
   "outputs": [
    {
     "name": "stderr",
     "output_type": "stream",
     "text": [
      "input_line_55:2:13: error: subscripted value is not an array, pointer, or vector\n",
      " cout << v[0[0]] << \" and \";\n",
      "           ~^~\n"
     ]
    }
   ],
   "source": [
    "cout << v[0[0]] << \" and \";"
   ]
  },
  {
   "cell_type": "code",
   "execution_count": null,
   "id": "rational-monte",
   "metadata": {},
   "outputs": [],
   "source": []
  }
 ],
 "metadata": {
  "kernelspec": {
   "display_name": "ROOT C++",
   "language": "c++",
   "name": "root"
  },
  "language_info": {
   "codemirror_mode": "text/x-c++src",
   "file_extension": ".C",
   "mimetype": " text/x-c++src",
   "name": "c++"
  }
 },
 "nbformat": 4,
 "nbformat_minor": 5
}
