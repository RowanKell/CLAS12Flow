{
 "cells": [
  {
   "cell_type": "code",
   "execution_count": 12,
   "id": "pretty-addiction",
   "metadata": {},
   "outputs": [],
   "source": [
    "#include <iostream>\n",
    "#include <vector>\n",
    "#include <cmath>\n",
    "#include <map>\n",
    "#include <string>\n",
    "#include \"TROOT.h\"\n",
    "#include \"TTree.h\"\n",
    "#include \"TFile.h\"\n",
    "\n",
    "using namespace std;\n",
    "\n",
    "// Initializations for map\n",
    "std::vector<int> vdiquarklist;\n",
    "int vdiquarksize;\n",
    "// Defining particle PIDs - look into how to use libraries/dictionaries\n",
    "// Vectors will suffice for now\n",
    "\n",
    "map<int, string> PID_map;\n",
    "//Quarks\n",
    "PID_map.insert(pair<int,string>(-6, \"Anti-Top\"));\n",
    "PID_map.insert(pair<int,string>(-5, \"Anti-Bottom\"));\n",
    "PID_map.insert(pair<int,string>(-4, \"Anti-Charm\"));\n",
    "PID_map.insert(pair<int,string>(-3, \"Anti-Strange\"));\n",
    "PID_map.insert(pair<int,string>(-2, \"Anti-Up\"));\n",
    "PID_map.insert(pair<int,string>(-1, \"Anti-Down\"));\n",
    "PID_map.insert(pair<int,string>(1, \"Down\"));\n",
    "PID_map.insert(pair<int,string>(2, \"Up\"));\n",
    "PID_map.insert(pair<int,string>(3, \"Strange\"));\n",
    "PID_map.insert(pair<int,string>(4, \"Charm\"));\n",
    "PID_map.insert(pair<int,string>(5, \"Bottom\"));\n",
    "PID_map.insert(pair<int,string>(6, \"Top\"));\n",
    "//Leptons\n",
    "PID_map.insert(pair<int,string>(11, \"Electron\"));\n",
    "PID_map.insert(pair<int,string>(13, \"Muon\"));\n",
    "PID_map.insert(pair<int,string>(15, \"Tau\"));\n",
    "PID_map.insert(pair<int,string>(22, \"Photon\"));\n",
    "//Bosons\n",
    "PID_map.insert(pair<int,string>(-24, \"W-\"));\n",
    "PID_map.insert(pair<int,string>(24, \"W+\"));\n",
    "PID_map.insert(pair<int,string>(23, \"Z\"));\n",
    "//Baryons\n",
    "PID_map.insert(pair<int,string>(-3122, \"Anti-Lambda\"));\n",
    "PID_map.insert(pair<int,string>(-211, \"Pi-\"));\n",
    "PID_map.insert(pair<int,string>(111, \"Pi0\"));\n",
    "PID_map.insert(pair<int,string>(211, \"Pi+\"));\n",
    "PID_map.insert(pair<int,string>(1114, \"Delta-\"));\n",
    "PID_map.insert(pair<int,string>(2114, \"Delta0\"));\n",
    "PID_map.insert(pair<int,string>(2212, \"Proton\"));\n",
    "PID_map.insert(pair<int,string>(2214, \"Delta+\"));\n",
    "PID_map.insert(pair<int,string>(2224, \"Delta++\"));\n",
    "PID_map.insert(pair<int,string>(3112, \"Sigma-\"));\n",
    "PID_map.insert(pair<int,string>(3114, \"Sigma*-\"));\n",
    "PID_map.insert(pair<int,string>(3122, \"Lambda\"));\n",
    "PID_map.insert(pair<int,string>(3214, \"Sigma*0\"));\n",
    "PID_map.insert(pair<int,string>(3222, \"Sigma+\"));\n",
    "PID_map.insert(pair<int,string>(3224, \"Sigma*+\"));\n",
    "PID_map.insert(pair<int,string>(3312, \"Xi-\"));\n",
    "PID_map.insert(pair<int,string>(3324, \"Xi*0\"));\n",
    "//Mesons\n",
    "PID_map.insert(pair<int,string>(-323, \"K*-\"));\n",
    "PID_map.insert(pair<int,string>(-313, \"K*0\"));\n",
    "PID_map.insert(pair<int,string>(-213, \"Rho-\"));\n",
    "PID_map.insert(pair<int,string>(113, \"Rho0\"));\n",
    "PID_map.insert(pair<int,string>(213, \"Rho+\"));\n",
    "PID_map.insert(pair<int,string>(221, \"Eta\"));\n",
    "PID_map.insert(pair<int,string>(223, \"Omega\"));\n",
    "PID_map.insert(pair<int,string>(310, \"Ks0\"));\n",
    "PID_map.insert(pair<int,string>(313, \"K*0\"));\n",
    "PID_map.insert(pair<int,string>(323, \"K*+\"));\n",
    "PID_map.insert(pair<int,string>(331, \"Eta\"));\n",
    "PID_map.insert(pair<int,string>(333, \"Phi\"));\n",
    "//Event Gen\n",
    "PID_map.insert(pair<int,string>(91, \"Gen=91\"));\n",
    "PID_map.insert(pair<int,string>(92, \"Gen=92\"));\n",
    "//diquarks - we don't usually care what they are, but we can label them all diquark this way\n",
    "vdiquarklist = {1103, 2101, 2103, 2203, 3101, 3103, 3201, 3203, 3303, 4101, 4103, 4201, 4203, 4301, 4303, 4403, 5101, 5103, 5201, 5203, 5301, 5303, 5401, 5403, 5503};\n",
    "vdiquarksize = vdiquarklist.size();\n",
    "for(int i = 0;i < vdiquarksize;i++){\n",
    "    PID_map.insert(pair<int,string>(vdiquarklist[i], \"Diquark\"));\n",
    "}"
   ]
  },
  {
   "cell_type": "code",
   "execution_count": 19,
   "id": "casual-thriller",
   "metadata": {},
   "outputs": [],
   "source": [
    "int countvar = 0;"
   ]
  },
  {
   "cell_type": "code",
   "execution_count": 23,
   "id": "happy-synthetic",
   "metadata": {},
   "outputs": [
    {
     "name": "stdout",
     "output_type": "stream",
     "text": [
      "25"
     ]
    }
   ],
   "source": [
    "for(int i = 1103; i < 6000;i++){ //should be 25\n",
    "    if(PID_map[i] == \"Diquark\"){countvar += 1;}\n",
    "}\n",
    "std::cout << countvar;"
   ]
  },
  {
   "cell_type": "code",
   "execution_count": null,
   "id": "ongoing-negative",
   "metadata": {},
   "outputs": [],
   "source": [
    "//Yay!"
   ]
  },
  {
   "cell_type": "code",
   "execution_count": null,
   "id": "handled-korea",
   "metadata": {},
   "outputs": [],
   "source": []
  }
 ],
 "metadata": {
  "kernelspec": {
   "display_name": "ROOT C++",
   "language": "c++",
   "name": "root"
  },
  "language_info": {
   "codemirror_mode": "text/x-c++src",
   "file_extension": ".C",
   "mimetype": " text/x-c++src",
   "name": "c++"
  }
 },
 "nbformat": 4,
 "nbformat_minor": 5
}
